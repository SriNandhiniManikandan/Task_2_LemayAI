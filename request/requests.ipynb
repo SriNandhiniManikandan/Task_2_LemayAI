{
 "cells": [
  {
   "cell_type": "code",
   "execution_count": 2,
   "id": "78495195",
   "metadata": {},
   "outputs": [],
   "source": [
    "import requests"
   ]
  },
  {
   "cell_type": "code",
   "execution_count": 3,
   "id": "b391c937",
   "metadata": {},
   "outputs": [],
   "source": [
    "url = \"http://localhost/askSri/generate\"  # via NGINX\n",
    "payload_template = {\n",
    "    \"prompt\": \"What is the capital of France?\"\n",
    "}"
   ]
  },
  {
   "cell_type": "code",
   "execution_count": 4,
   "id": "5d599c8c",
   "metadata": {},
   "outputs": [],
   "source": [
    "def send_request(prompt):\n",
    "    try:\n",
    "        response = requests.post(url, json={\"prompt\": prompt}, timeout=60)\n",
    "        return response.json()\n",
    "    except Exception as e:\n",
    "        return {\"error\": str(e)}"
   ]
  },
  {
   "cell_type": "code",
   "execution_count": null,
   "id": "419f4829",
   "metadata": {},
   "outputs": [],
   "source": [
    "prompts = [\n",
    "    \"What is the capital of France?\",\n",
    "    \"Translate English to French: The weather is nice today.\",\n",
    "    \"What is the major reason for heart attack\",\n",
    "    \"What is photosynthesis?\",\n",
    "    \"What is the square root of 16?\",\n",
    "    \"Sentiment: I love the new design of your website.\",\n",
    "    \"What is the largest ocean?\",\n",
    "    \"extract the names of all people mentioned in the following text: John Smith and Sarah Lee colaborated on the research project.\",\n",
    "    \"Today's date\"\n",
    "\n",
    "]"
   ]
  },
  {
   "cell_type": "code",
   "execution_count": 51,
   "id": "175296a2",
   "metadata": {},
   "outputs": [
    {
     "name": "stdout",
     "output_type": "stream",
     "text": [
      "Single request took 0.31 seconds\n"
     ]
    }
   ],
   "source": [
    "import time\n",
    "start = time.time()\n",
    "result = send_request(prompts[0])\n",
    "end = time.time()\n",
    "print(f\"Single request took {end - start:.2f} seconds\")"
   ]
  },
  {
   "cell_type": "code",
   "execution_count": 50,
   "id": "13153925",
   "metadata": {},
   "outputs": [],
   "source": [
    "import concurrent\n",
    "\n",
    "\n",
    "start = time.time()\n",
    "with concurrent.futures.ThreadPoolExecutor(max_workers=2) as executor:\n",
    "    futures = [executor.submit(send_request, prompt) for prompt in prompts]\n",
    "    results = [f.result() for f in futures]\n",
    "end = time.time()"
   ]
  },
  {
   "cell_type": "code",
   "execution_count": 52,
   "id": "ff697b56",
   "metadata": {},
   "outputs": [
    {
     "name": "stdout",
     "output_type": "stream",
     "text": [
      "Prompt: What is the capital of France?\n",
      "Response: paris\n",
      "\n",
      "Prompt: Translate English to French: The weather is nice today.\n",
      "Response: Le temps est assez agréable aujourd'hui.\n",
      "\n",
      "Prompt: What is the major reason for heart attack\n",
      "Response: fatty liver\n",
      "\n",
      "Prompt: Explain photosynthesis?\n",
      "Response: a chemical reaction that converts chemical energy into electrical energy\n",
      "\n",
      "Prompt: What is the square root of 16?\n",
      "Response: 4\n",
      "\n",
      "Prompt: Sentiment: I love the new design of your website.\n",
      "Response: positive\n",
      "\n",
      "Prompt: What is the largest ocean?\n",
      "Response: pacific\n",
      "\n",
      "Prompt: extract the names of all people mentioned in the following text: John Smith and Sarah Lee colaborated on the research project.\n",
      "Response: John Smith, Sarah Lee\n",
      "\n",
      "Prompt: write a python code to find the odd number.\n",
      "Response: n = int(input()) if n%2 == 0: print(n//2) else: print(n//2)\n",
      "\n",
      "Completed in 0.31 seconds.\n"
     ]
    }
   ],
   "source": [
    "for i, result in enumerate(results):\n",
    "    print(f\"Prompt: {prompts[i]}\")\n",
    "    print(f\"Response: {result.get('response', result)}\\n\")\n",
    "\n",
    "print(f\"Completed in {round(end - start, 2)} seconds.\")"
   ]
  },
  {
   "cell_type": "code",
   "execution_count": null,
   "id": "66222f2b",
   "metadata": {},
   "outputs": [],
   "source": []
  }
 ],
 "metadata": {
  "kernelspec": {
   "display_name": "Python 3",
   "language": "python",
   "name": "python3"
  },
  "language_info": {
   "codemirror_mode": {
    "name": "ipython",
    "version": 3
   },
   "file_extension": ".py",
   "mimetype": "text/x-python",
   "name": "python",
   "nbconvert_exporter": "python",
   "pygments_lexer": "ipython3",
   "version": "3.13.3"
  }
 },
 "nbformat": 4,
 "nbformat_minor": 5
}
